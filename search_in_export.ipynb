{
 "cells": [
  {
   "cell_type": "code",
   "execution_count": 1,
   "metadata": {
    "collapsed": true
   },
   "outputs": [
    {
     "name": "stderr",
     "output_type": "stream",
     "text": [
      "2023-03-14 13:39:58.097 | INFO     | src.clear_file:__read_file:58 - messages len: 14062\n"
     ]
    }
   ],
   "source": [
    "from src.clear_file import BaseClearDataFile\n",
    "import pandas as pd\n",
    "\n",
    "file = open('python.txt', 'r', encoding='utf-8')\n",
    "base = BaseClearDataFile(file)\n",
    "\n",
    "df_messages = pd.DataFrame(base.messages)\n",
    "df_info_messages = pd.DataFrame(base.info_messages)"
   ]
  },
  {
   "cell_type": "code",
   "execution_count": 2,
   "outputs": [
    {
     "data": {
      "text/plain": "               phone                                         message  \\\n0         Mateus Feu                                             Opa   \n1         Mateus Feu                                      Satisfação   \n2      @erickson.lds                                             opa   \n3      @erickson.lds                      calma ai que to organiando   \n4         Mateus Feu                                  Tá ficando top   \n...              ...                                             ...   \n14057  @erickson.lds                            O streamlit faz isso   \n14058      Luiz Cruz                                     Q q eh isso   \n14059      Luiz Cruz                                          Aí sim   \n14060      Luiz Cruz  Como q ele mapeia o que vc removeu do arquivo?   \n14061      Luiz Cruz          Ele compara a versão antiga vs a nova?   \n\n                     date  \n0     2022-05-31 17:47:00  \n1     2022-05-31 17:48:00  \n2     2022-05-31 17:48:00  \n3     2022-05-31 17:48:00  \n4     2022-05-31 17:53:00  \n...                   ...  \n14057 2023-03-10 11:21:00  \n14058 2023-03-10 11:24:00  \n14059 2023-03-10 11:25:00  \n14060 2023-03-10 11:25:00  \n14061 2023-03-10 11:25:00  \n\n[14062 rows x 3 columns]",
      "text/html": "<div>\n<style scoped>\n    .dataframe tbody tr th:only-of-type {\n        vertical-align: middle;\n    }\n\n    .dataframe tbody tr th {\n        vertical-align: top;\n    }\n\n    .dataframe thead th {\n        text-align: right;\n    }\n</style>\n<table border=\"1\" class=\"dataframe\">\n  <thead>\n    <tr style=\"text-align: right;\">\n      <th></th>\n      <th>phone</th>\n      <th>message</th>\n      <th>date</th>\n    </tr>\n  </thead>\n  <tbody>\n    <tr>\n      <th>0</th>\n      <td>Mateus Feu</td>\n      <td>Opa</td>\n      <td>2022-05-31 17:47:00</td>\n    </tr>\n    <tr>\n      <th>1</th>\n      <td>Mateus Feu</td>\n      <td>Satisfação</td>\n      <td>2022-05-31 17:48:00</td>\n    </tr>\n    <tr>\n      <th>2</th>\n      <td>@erickson.lds</td>\n      <td>opa</td>\n      <td>2022-05-31 17:48:00</td>\n    </tr>\n    <tr>\n      <th>3</th>\n      <td>@erickson.lds</td>\n      <td>calma ai que to organiando</td>\n      <td>2022-05-31 17:48:00</td>\n    </tr>\n    <tr>\n      <th>4</th>\n      <td>Mateus Feu</td>\n      <td>Tá ficando top</td>\n      <td>2022-05-31 17:53:00</td>\n    </tr>\n    <tr>\n      <th>...</th>\n      <td>...</td>\n      <td>...</td>\n      <td>...</td>\n    </tr>\n    <tr>\n      <th>14057</th>\n      <td>@erickson.lds</td>\n      <td>O streamlit faz isso</td>\n      <td>2023-03-10 11:21:00</td>\n    </tr>\n    <tr>\n      <th>14058</th>\n      <td>Luiz Cruz</td>\n      <td>Q q eh isso</td>\n      <td>2023-03-10 11:24:00</td>\n    </tr>\n    <tr>\n      <th>14059</th>\n      <td>Luiz Cruz</td>\n      <td>Aí sim</td>\n      <td>2023-03-10 11:25:00</td>\n    </tr>\n    <tr>\n      <th>14060</th>\n      <td>Luiz Cruz</td>\n      <td>Como q ele mapeia o que vc removeu do arquivo?</td>\n      <td>2023-03-10 11:25:00</td>\n    </tr>\n    <tr>\n      <th>14061</th>\n      <td>Luiz Cruz</td>\n      <td>Ele compara a versão antiga vs a nova?</td>\n      <td>2023-03-10 11:25:00</td>\n    </tr>\n  </tbody>\n</table>\n<p>14062 rows × 3 columns</p>\n</div>"
     },
     "execution_count": 2,
     "metadata": {},
     "output_type": "execute_result"
    }
   ],
   "source": [
    "df_messages"
   ],
   "metadata": {
    "collapsed": false
   }
  },
  {
   "cell_type": "code",
   "execution_count": 3,
   "outputs": [
    {
     "data": {
      "text/plain": "                                              message                date\n0   As mensagens e as chamadas são protegidas com ... 2022-05-31 17:46:00\n1              Você criou o grupo \"Py #criando grupo\" 2022-05-31 17:46:00\n2                     Você mudou a descrição do grupo 2022-05-31 17:51:00\n3                        Você mudou a imagem do grupo 2022-05-31 17:52:00\n4   Você mudou o nome do grupo de \"Py #criando gru... 2022-05-31 17:53:00\n..                                                ...                 ...\n89                            ‎+55 11 97495-9463 saiu 2023-02-10 17:54:00\n90  ‎+55 31 8424-1161 entrou usando o link de conv... 2023-02-12 01:44:00\n91  ‎Melque entrou usando o link de convite deste ... 2023-02-17 19:51:00\n92  ‎Luiz Cruz entrou usando o link de convite des... 2023-02-18 19:15:00\n93                    Você mudou a descrição do grupo 2023-02-24 12:07:00\n\n[94 rows x 2 columns]",
      "text/html": "<div>\n<style scoped>\n    .dataframe tbody tr th:only-of-type {\n        vertical-align: middle;\n    }\n\n    .dataframe tbody tr th {\n        vertical-align: top;\n    }\n\n    .dataframe thead th {\n        text-align: right;\n    }\n</style>\n<table border=\"1\" class=\"dataframe\">\n  <thead>\n    <tr style=\"text-align: right;\">\n      <th></th>\n      <th>message</th>\n      <th>date</th>\n    </tr>\n  </thead>\n  <tbody>\n    <tr>\n      <th>0</th>\n      <td>As mensagens e as chamadas são protegidas com ...</td>\n      <td>2022-05-31 17:46:00</td>\n    </tr>\n    <tr>\n      <th>1</th>\n      <td>Você criou o grupo \"Py #criando grupo\"</td>\n      <td>2022-05-31 17:46:00</td>\n    </tr>\n    <tr>\n      <th>2</th>\n      <td>Você mudou a descrição do grupo</td>\n      <td>2022-05-31 17:51:00</td>\n    </tr>\n    <tr>\n      <th>3</th>\n      <td>Você mudou a imagem do grupo</td>\n      <td>2022-05-31 17:52:00</td>\n    </tr>\n    <tr>\n      <th>4</th>\n      <td>Você mudou o nome do grupo de \"Py #criando gru...</td>\n      <td>2022-05-31 17:53:00</td>\n    </tr>\n    <tr>\n      <th>...</th>\n      <td>...</td>\n      <td>...</td>\n    </tr>\n    <tr>\n      <th>89</th>\n      <td>‎+55 11 97495-9463 saiu</td>\n      <td>2023-02-10 17:54:00</td>\n    </tr>\n    <tr>\n      <th>90</th>\n      <td>‎+55 31 8424-1161 entrou usando o link de conv...</td>\n      <td>2023-02-12 01:44:00</td>\n    </tr>\n    <tr>\n      <th>91</th>\n      <td>‎Melque entrou usando o link de convite deste ...</td>\n      <td>2023-02-17 19:51:00</td>\n    </tr>\n    <tr>\n      <th>92</th>\n      <td>‎Luiz Cruz entrou usando o link de convite des...</td>\n      <td>2023-02-18 19:15:00</td>\n    </tr>\n    <tr>\n      <th>93</th>\n      <td>Você mudou a descrição do grupo</td>\n      <td>2023-02-24 12:07:00</td>\n    </tr>\n  </tbody>\n</table>\n<p>94 rows × 2 columns</p>\n</div>"
     },
     "execution_count": 3,
     "metadata": {},
     "output_type": "execute_result"
    }
   ],
   "source": [
    "df_info_messages"
   ],
   "metadata": {
    "collapsed": false
   }
  },
  {
   "cell_type": "code",
   "execution_count": 4,
   "outputs": [
    {
     "data": {
      "text/plain": "<Arquivo de mídia oculto>                 1192\nMensagem apagada                           101\nSim                                         57\n?                                           43\nisso                                        32\n                                          ... \niiii ala                                     1\nolha que legal                               1\nusa a extensão                               1\nno chome                                     1\nEle compara a versão antiga vs a nova?       1\nName: message, Length: 11556, dtype: int64"
     },
     "execution_count": 4,
     "metadata": {},
     "output_type": "execute_result"
    }
   ],
   "source": [
    "df_messages[\"message\"].value_counts()"
   ],
   "metadata": {
    "collapsed": false
   }
  },
  {
   "cell_type": "code",
   "execution_count": 5,
   "outputs": [
    {
     "data": {
      "text/plain": "       newdate  message\n0   2022-05-31       25\n1   2022-06-01       19\n2   2022-06-03        1\n3   2022-06-05        2\n4   2022-06-06        5\n..         ...      ...\n218 2023-03-06        1\n219 2023-03-07       31\n220 2023-03-08        6\n221 2023-03-09        3\n222 2023-03-10       47\n\n[223 rows x 2 columns]",
      "text/html": "<div>\n<style scoped>\n    .dataframe tbody tr th:only-of-type {\n        vertical-align: middle;\n    }\n\n    .dataframe tbody tr th {\n        vertical-align: top;\n    }\n\n    .dataframe thead th {\n        text-align: right;\n    }\n</style>\n<table border=\"1\" class=\"dataframe\">\n  <thead>\n    <tr style=\"text-align: right;\">\n      <th></th>\n      <th>newdate</th>\n      <th>message</th>\n    </tr>\n  </thead>\n  <tbody>\n    <tr>\n      <th>0</th>\n      <td>2022-05-31</td>\n      <td>25</td>\n    </tr>\n    <tr>\n      <th>1</th>\n      <td>2022-06-01</td>\n      <td>19</td>\n    </tr>\n    <tr>\n      <th>2</th>\n      <td>2022-06-03</td>\n      <td>1</td>\n    </tr>\n    <tr>\n      <th>3</th>\n      <td>2022-06-05</td>\n      <td>2</td>\n    </tr>\n    <tr>\n      <th>4</th>\n      <td>2022-06-06</td>\n      <td>5</td>\n    </tr>\n    <tr>\n      <th>...</th>\n      <td>...</td>\n      <td>...</td>\n    </tr>\n    <tr>\n      <th>218</th>\n      <td>2023-03-06</td>\n      <td>1</td>\n    </tr>\n    <tr>\n      <th>219</th>\n      <td>2023-03-07</td>\n      <td>31</td>\n    </tr>\n    <tr>\n      <th>220</th>\n      <td>2023-03-08</td>\n      <td>6</td>\n    </tr>\n    <tr>\n      <th>221</th>\n      <td>2023-03-09</td>\n      <td>3</td>\n    </tr>\n    <tr>\n      <th>222</th>\n      <td>2023-03-10</td>\n      <td>47</td>\n    </tr>\n  </tbody>\n</table>\n<p>223 rows × 2 columns</p>\n</div>"
     },
     "execution_count": 5,
     "metadata": {},
     "output_type": "execute_result"
    }
   ],
   "source": [
    "df_messages[\"newdate\"] = df_messages.apply(lambda x: x['date'].date(), axis=1)\n",
    "# Agrupa as mensagens por data e conta a quantidade de mensagens\n",
    "df_messages['newdate'] = pd.to_datetime(df_messages['newdate'])\n",
    "# Cria um novo dataframe com a soma das mensagens por dia\n",
    "df_soma = df_messages.groupby('newdate')['message'].count().reset_index()\n",
    "df_soma"
   ],
   "metadata": {
    "collapsed": false
   }
  },
  {
   "cell_type": "code",
   "execution_count": 6,
   "outputs": [
    {
     "data": {
      "text/plain": "newdate    223\nmessage    223\ndtype: int64"
     },
     "execution_count": 6,
     "metadata": {},
     "output_type": "execute_result"
    }
   ],
   "source": [
    "df_soma.count()"
   ],
   "metadata": {
    "collapsed": false
   }
  },
  {
   "cell_type": "code",
   "execution_count": 7,
   "outputs": [
    {
     "data": {
      "text/plain": "          Data  Quantidade de mensagens\n0   2022-05-31                       25\n1   2022-06-01                       19\n2   2022-06-03                        1\n3   2022-06-05                        2\n4   2022-06-06                        5\n..         ...                      ...\n218 2023-03-06                        1\n219 2023-03-07                       31\n220 2023-03-08                        6\n221 2023-03-09                        3\n222 2023-03-10                       47\n\n[223 rows x 2 columns]",
      "text/html": "<div>\n<style scoped>\n    .dataframe tbody tr th:only-of-type {\n        vertical-align: middle;\n    }\n\n    .dataframe tbody tr th {\n        vertical-align: top;\n    }\n\n    .dataframe thead th {\n        text-align: right;\n    }\n</style>\n<table border=\"1\" class=\"dataframe\">\n  <thead>\n    <tr style=\"text-align: right;\">\n      <th></th>\n      <th>Data</th>\n      <th>Quantidade de mensagens</th>\n    </tr>\n  </thead>\n  <tbody>\n    <tr>\n      <th>0</th>\n      <td>2022-05-31</td>\n      <td>25</td>\n    </tr>\n    <tr>\n      <th>1</th>\n      <td>2022-06-01</td>\n      <td>19</td>\n    </tr>\n    <tr>\n      <th>2</th>\n      <td>2022-06-03</td>\n      <td>1</td>\n    </tr>\n    <tr>\n      <th>3</th>\n      <td>2022-06-05</td>\n      <td>2</td>\n    </tr>\n    <tr>\n      <th>4</th>\n      <td>2022-06-06</td>\n      <td>5</td>\n    </tr>\n    <tr>\n      <th>...</th>\n      <td>...</td>\n      <td>...</td>\n    </tr>\n    <tr>\n      <th>218</th>\n      <td>2023-03-06</td>\n      <td>1</td>\n    </tr>\n    <tr>\n      <th>219</th>\n      <td>2023-03-07</td>\n      <td>31</td>\n    </tr>\n    <tr>\n      <th>220</th>\n      <td>2023-03-08</td>\n      <td>6</td>\n    </tr>\n    <tr>\n      <th>221</th>\n      <td>2023-03-09</td>\n      <td>3</td>\n    </tr>\n    <tr>\n      <th>222</th>\n      <td>2023-03-10</td>\n      <td>47</td>\n    </tr>\n  </tbody>\n</table>\n<p>223 rows × 2 columns</p>\n</div>"
     },
     "execution_count": 7,
     "metadata": {},
     "output_type": "execute_result"
    }
   ],
   "source": [
    "df_soma.rename(columns={'newdate': 'Data', 'message': 'Quantidade de mensagens'}, inplace=True)\n",
    "df_soma"
   ],
   "metadata": {
    "collapsed": false
   }
  },
  {
   "cell_type": "code",
   "execution_count": 9,
   "outputs": [
    {
     "data": {
      "text/plain": "          Data  Quantidade de mensagens\n52  2022-09-09                      382\n127 2022-11-30                      375\n39  2022-08-26                      356\n49  2022-09-06                      333\n106 2022-11-07                      323\n..         ...                      ...\n217 2023-03-04                        1\n218 2023-03-06                        1\n11  2022-06-18                        1\n12  2022-06-21                        1\n154 2022-12-29                        1\n\n[223 rows x 2 columns]",
      "text/html": "<div>\n<style scoped>\n    .dataframe tbody tr th:only-of-type {\n        vertical-align: middle;\n    }\n\n    .dataframe tbody tr th {\n        vertical-align: top;\n    }\n\n    .dataframe thead th {\n        text-align: right;\n    }\n</style>\n<table border=\"1\" class=\"dataframe\">\n  <thead>\n    <tr style=\"text-align: right;\">\n      <th></th>\n      <th>Data</th>\n      <th>Quantidade de mensagens</th>\n    </tr>\n  </thead>\n  <tbody>\n    <tr>\n      <th>52</th>\n      <td>2022-09-09</td>\n      <td>382</td>\n    </tr>\n    <tr>\n      <th>127</th>\n      <td>2022-11-30</td>\n      <td>375</td>\n    </tr>\n    <tr>\n      <th>39</th>\n      <td>2022-08-26</td>\n      <td>356</td>\n    </tr>\n    <tr>\n      <th>49</th>\n      <td>2022-09-06</td>\n      <td>333</td>\n    </tr>\n    <tr>\n      <th>106</th>\n      <td>2022-11-07</td>\n      <td>323</td>\n    </tr>\n    <tr>\n      <th>...</th>\n      <td>...</td>\n      <td>...</td>\n    </tr>\n    <tr>\n      <th>217</th>\n      <td>2023-03-04</td>\n      <td>1</td>\n    </tr>\n    <tr>\n      <th>218</th>\n      <td>2023-03-06</td>\n      <td>1</td>\n    </tr>\n    <tr>\n      <th>11</th>\n      <td>2022-06-18</td>\n      <td>1</td>\n    </tr>\n    <tr>\n      <th>12</th>\n      <td>2022-06-21</td>\n      <td>1</td>\n    </tr>\n    <tr>\n      <th>154</th>\n      <td>2022-12-29</td>\n      <td>1</td>\n    </tr>\n  </tbody>\n</table>\n<p>223 rows × 2 columns</p>\n</div>"
     },
     "execution_count": 9,
     "metadata": {},
     "output_type": "execute_result"
    }
   ],
   "source": [
    "df_soma.sort_values(by='Quantidade de mensagens', ascending=False)"
   ],
   "metadata": {
    "collapsed": false
   }
  },
  {
   "cell_type": "code",
   "execution_count": null,
   "outputs": [],
   "source": [],
   "metadata": {
    "collapsed": false
   }
  }
 ],
 "metadata": {
  "kernelspec": {
   "display_name": "Python 3",
   "language": "python",
   "name": "python3"
  },
  "language_info": {
   "codemirror_mode": {
    "name": "ipython",
    "version": 2
   },
   "file_extension": ".py",
   "mimetype": "text/x-python",
   "name": "python",
   "nbconvert_exporter": "python",
   "pygments_lexer": "ipython2",
   "version": "2.7.6"
  }
 },
 "nbformat": 4,
 "nbformat_minor": 0
}
